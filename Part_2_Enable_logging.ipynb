{
 "cells": [
  {
   "cell_type": "markdown",
   "id": "cc6b7b9f-a75d-4b78-930f-26d2343ac2c2",
   "metadata": {},
   "source": [
    "# Part 2 : Enable Logging"
   ]
  },
  {
   "cell_type": "markdown",
   "id": "06fc5839-0b4b-42a3-9aaf-99a97e347955",
   "metadata": {},
   "source": [
    "### Import all needed packages"
   ]
  },
  {
   "cell_type": "code",
   "execution_count": 1,
   "id": "63cf31e4",
   "metadata": {
    "height": 98
   },
   "outputs": [],
   "source": [
    "import boto3\n",
    "import json\n",
    "import os\n",
    "\n",
    "bedrock = boto3.client('bedrock', region_name=\"us-west-2\")"
   ]
  },
  {
   "cell_type": "code",
   "execution_count": 2,
   "id": "e5d9e31b",
   "metadata": {
    "height": 47
   },
   "outputs": [],
   "source": [
    "from helpers.CloudWatchHelper import CloudWatch_Helper\n",
    "cloudwatch = CloudWatch_Helper()"
   ]
  },
  {
   "cell_type": "code",
   "execution_count": 3,
   "id": "87a30e7e",
   "metadata": {
    "height": 30
   },
   "outputs": [],
   "source": [
    "log_group_name = '/my/amazon/bedrock/logs'"
   ]
  },
  {
   "cell_type": "code",
   "execution_count": 4,
   "id": "2461a51c",
   "metadata": {
    "height": 30
   },
   "outputs": [
    {
     "name": "stdout",
     "output_type": "stream",
     "text": [
      "Log group '/my/amazon/bedrock/logs' created successfully.\n"
     ]
    }
   ],
   "source": [
    "cloudwatch.create_log_group(log_group_name)"
   ]
  },
  {
   "cell_type": "code",
   "execution_count": 5,
   "id": "0afe5997",
   "metadata": {
    "height": 268
   },
   "outputs": [],
   "source": [
    "loggingConfig = {\n",
    "    'cloudWatchConfig': {\n",
    "        'logGroupName': log_group_name,\n",
    "        'roleArn': os.environ['LOGGINGROLEARN'],\n",
    "        'largeDataDeliveryS3Config': {\n",
    "            'bucketName': os.environ['LOGGINGBUCKETNAME'],\n",
    "            'keyPrefix': 'amazon_bedrock_large_data_delivery',\n",
    "        }\n",
    "    },\n",
    "    's3Config': {\n",
    "        'bucketName': os.environ['LOGGINGBUCKETNAME'],\n",
    "        'keyPrefix': 'amazon_bedrock_logs',\n",
    "    },\n",
    "    'textDataDeliveryEnabled': True,\n",
    "}"
   ]
  },
  {
   "cell_type": "code",
   "execution_count": 6,
   "id": "2ca33ffe",
   "metadata": {
    "height": 30
   },
   "outputs": [
    {
     "data": {
      "text/plain": [
       "{'ResponseMetadata': {'RequestId': 'ac75a4a0-fdef-4edf-86f2-875ac1e4631f',\n",
       "  'HTTPStatusCode': 200,\n",
       "  'HTTPHeaders': {'date': 'Tue, 17 Sep 2024 21:36:21 GMT',\n",
       "   'content-type': 'application/json',\n",
       "   'content-length': '2',\n",
       "   'connection': 'keep-alive',\n",
       "   'x-amzn-requestid': 'ac75a4a0-fdef-4edf-86f2-875ac1e4631f'},\n",
       "  'RetryAttempts': 0}}"
      ]
     },
     "execution_count": 6,
     "metadata": {},
     "output_type": "execute_result"
    }
   ],
   "source": [
    "bedrock.put_model_invocation_logging_configuration(loggingConfig=loggingConfig)"
   ]
  },
  {
   "cell_type": "code",
   "execution_count": 7,
   "id": "41fdb20d",
   "metadata": {
    "height": 30
   },
   "outputs": [
    {
     "data": {
      "text/plain": [
       "{'ResponseMetadata': {'RequestId': '4a08355d-8b2d-489d-a2d1-fe44d6cdd09d',\n",
       "  'HTTPStatusCode': 200,\n",
       "  'HTTPHeaders': {'date': 'Tue, 17 Sep 2024 21:36:25 GMT',\n",
       "   'content-type': 'application/json',\n",
       "   'content-length': '604',\n",
       "   'connection': 'keep-alive',\n",
       "   'x-amzn-requestid': '4a08355d-8b2d-489d-a2d1-fe44d6cdd09d'},\n",
       "  'RetryAttempts': 0},\n",
       " 'loggingConfig': {'cloudWatchConfig': {'logGroupName': '/my/amazon/bedrock/logs',\n",
       "   'roleArn': 'arn:aws:iam::163141031870:role/c99355a2566044l7118059t1w73183247167-LoggingIAMRole-56V62BCmDkAe',\n",
       "   'largeDataDeliveryS3Config': {'bucketName': 'c99355a2566044l7118059t1w731832471-loggings3bucket-4ahftntqbbx5',\n",
       "    'keyPrefix': 'amazon_bedrock_large_data_delivery'}},\n",
       "  's3Config': {'bucketName': 'c99355a2566044l7118059t1w731832471-loggings3bucket-4ahftntqbbx5',\n",
       "   'keyPrefix': 'amazon_bedrock_logs'},\n",
       "  'textDataDeliveryEnabled': True,\n",
       "  'imageDataDeliveryEnabled': True,\n",
       "  'embeddingDataDeliveryEnabled': True}}"
      ]
     },
     "execution_count": 7,
     "metadata": {},
     "output_type": "execute_result"
    }
   ],
   "source": [
    "bedrock.get_model_invocation_logging_configuration()"
   ]
  },
  {
   "cell_type": "code",
   "execution_count": 8,
   "id": "95ebecb7",
   "metadata": {
    "height": 30
   },
   "outputs": [],
   "source": [
    "bedrock_runtime = boto3.client('bedrock-runtime', region_name=\"us-west-2\")"
   ]
  },
  {
   "cell_type": "code",
   "execution_count": 9,
   "id": "402c6311",
   "metadata": {
    "height": 421
   },
   "outputs": [
    {
     "name": "stdout",
     "output_type": "stream",
     "text": [
      "\n",
      "Foobar is a fictional planet that was created by a group of science fiction writers in the early 21st century. The planet is located in a distant galaxy and is known for its unique and exotic features.\n",
      "\n",
      "One of the most notable features of Foobar is its atmosphere. The planet has a thick atmosphere of methane and nitrogen, which makes it a hostile environment for human life. The surface of the planet is covered in vast deserts, with occasional patches of lush vegetation. The atmosphere is also extremely thin, making it difficult for spacecraft to enter the planet's orbit.\n",
      "\n",
      "Foobar is home to a wide variety of life forms. The planet's deserts are home to a variety of creatures, including sandworms, scorpions, and lizards. The planet's lush vegetation is home to a variety of plants, including trees and grasses. The planet's oceans are home to a variety of marine life, including fish, whales, and sharks.\n",
      "\n",
      "The planet's climate is also unique. The planet has a very high temperature, with temperatures reaching up to 400 degrees Celsius (752 degrees Fahrenheit). The planet's atmosphere is also extremely dry, with very little rainfall.\n",
      "\n",
      "Foobar is also home to a variety of technological advancements. The planet's inhabitants have developed advanced technology that allows them to travel across the planet's deserts and oceans. The planet's inhabitants have also developed advanced weapons that allow them to defend themselves against any threats.\n",
      "\n",
      "Despite its unique and exotic features, Foobar is not a safe place for human life. The planet's atmosphere is toxic, and the planet's surface is covered in dangerous terrain. The planet's inhabitants have developed advanced technology that allows them to survive in these conditions, but it is difficult for humans to travel to the planet and survive.\n",
      "\n",
      "In recent years, there has been a growing interest in Foobar among the scientific community. Scientists have been studying the planet's atmosphere and its unique life forms, and they have developed new technologies that allow them to travel to the planet and study its features.\n",
      "\n",
      "One of the most significant discoveries about Foobar has been the discovery of a large underground network of caves. The caves are home to a variety of life forms, including bats, spiders, and worms. The caves are also home to a variety of geological features, including mineral deposits and underground rivers.\n",
      "\n",
      "Scientists have also been studying the planet's climate and its impact on the planet's life forms. The planet's high temperature and dry atmosphere have led to\n"
     ]
    }
   ],
   "source": [
    "prompt = \"Write an article about the fictional planet Foobar.\"\n",
    "\n",
    "kwargs = {\n",
    "    \"modelId\": \"amazon.titan-text-express-v1\",\n",
    "    \"contentType\": \"application/json\",\n",
    "    \"accept\": \"*/*\",\n",
    "    \"body\": json.dumps(\n",
    "        {\n",
    "            \"inputText\": prompt,\n",
    "            \"textGenerationConfig\": {\n",
    "                \"maxTokenCount\": 512,\n",
    "                \"temperature\": 0.7,\n",
    "                \"topP\": 0.9\n",
    "            }\n",
    "        }\n",
    "    )\n",
    "}\n",
    "\n",
    "response = bedrock_runtime.invoke_model(**kwargs)\n",
    "response_body = json.loads(response.get('body').read())\n",
    "\n",
    "generation = response_body['results'][0]['outputText']\n",
    "\n",
    "print(generation)"
   ]
  },
  {
   "cell_type": "code",
   "execution_count": 10,
   "id": "68a7bab7",
   "metadata": {
    "height": 30
   },
   "outputs": [
    {
     "name": "stdout",
     "output_type": "stream",
     "text": [
      "Permissions are correctly set for Amazon Bedrock logs.\n",
      "-------------------------\n",
      "\n",
      "{\n",
      "    \"schemaType\": \"ModelInvocationLog\",\n",
      "    \"schemaVersion\": \"1.0\",\n",
      "    \"timestamp\": \"2024-09-17T21:36:32Z\",\n",
      "    \"accountId\": \"163141031870\",\n",
      "    \"identity\": {\n",
      "        \"arn\": \"arn:aws:sts::163141031870:assumed-role/voclabs/user3378214=0\"\n",
      "    },\n",
      "    \"region\": \"us-west-2\",\n",
      "    \"requestId\": \"7d79770a-f1f5-4a7c-a4e2-c19bc8fb8d3f\",\n",
      "    \"operation\": \"InvokeModel\",\n",
      "    \"modelId\": \"amazon.titan-text-express-v1\",\n",
      "    \"input\": {\n",
      "        \"inputContentType\": \"application/json\",\n",
      "        \"inputBodyJson\": {\n",
      "            \"inputText\": \"Write an article about the fictional planet Foobar.\",\n",
      "            \"textGenerationConfig\": {\n",
      "                \"maxTokenCount\": 512,\n",
      "                \"temperature\": 0.7,\n",
      "                \"topP\": 0.9\n",
      "            }\n",
      "        },\n",
      "        \"inputTokenCount\": 10\n",
      "    },\n",
      "    \"output\": {\n",
      "        \"outputContentType\": \"application/json\",\n",
      "        \"outputBodyJson\": {\n",
      "            \"inputTextTokenCount\": 10,\n",
      "            \"results\": [\n",
      "                {\n",
      "                    \"tokenCount\": 512,\n",
      "                    \"outputText\": \"\\nFoobar is a fictional planet that was created by a group of science fiction writers in the early 21st century. The planet is located in a distant galaxy and is known for its unique and exotic features.\\n\\nOne of the most notable features of Foobar is its atmosphere. The planet has a thick atmosphere of methane and nitrogen, which makes it a hostile environment for human life. The surface of the planet is covered in vast deserts, with occasional patches of lush vegetation. The atmosphere is also extremely thin, making it difficult for spacecraft to enter the planet's orbit.\\n\\nFoobar is home to a wide variety of life forms. The planet's deserts are home to a variety of creatures, including sandworms, scorpions, and lizards. The planet's lush vegetation is home to a variety of plants, including trees and grasses. The planet's oceans are home to a variety of marine life, including fish, whales, and sharks.\\n\\nThe planet's climate is also unique. The planet has a very high temperature, with temperatures reaching up to 400 degrees Celsius (752 degrees Fahrenheit). The planet's atmosphere is also extremely dry, with very little rainfall.\\n\\nFoobar is also home to a variety of technological advancements. The planet's inhabitants have developed advanced technology that allows them to travel across the planet's deserts and oceans. The planet's inhabitants have also developed advanced weapons that allow them to defend themselves against any threats.\\n\\nDespite its unique and exotic features, Foobar is not a safe place for human life. The planet's atmosphere is toxic, and the planet's surface is covered in dangerous terrain. The planet's inhabitants have developed advanced technology that allows them to survive in these conditions, but it is difficult for humans to travel to the planet and survive.\\n\\nIn recent years, there has been a growing interest in Foobar among the scientific community. Scientists have been studying the planet's atmosphere and its unique life forms, and they have developed new technologies that allow them to travel to the planet and study its features.\\n\\nOne of the most significant discoveries about Foobar has been the discovery of a large underground network of caves. The caves are home to a variety of life forms, including bats, spiders, and worms. The caves are also home to a variety of geological features, including mineral deposits and underground rivers.\\n\\nScientists have also been studying the planet's climate and its impact on the planet's life forms. The planet's high temperature and dry atmosphere have led to\",\n",
      "                    \"completionReason\": \"LENGTH\"\n",
      "                }\n",
      "            ]\n",
      "        },\n",
      "        \"outputTokenCount\": 512\n",
      "    }\n",
      "}\n",
      "-------------------------\n",
      "\n"
     ]
    }
   ],
   "source": [
    "cloudwatch.print_recent_logs(log_group_name)"
   ]
  },
  {
   "cell_type": "markdown",
   "id": "1118acfb",
   "metadata": {},
   "source": [
    "To review the logs within the AWS console, please use the following link to reference the steps outlined in the video:"
   ]
  },
  {
   "cell_type": "code",
   "execution_count": 11,
   "id": "2cf443d2",
   "metadata": {
    "height": 47
   },
   "outputs": [],
   "source": [
    "from IPython.display import HTML\n",
    "aws_url = os.environ['AWS_CONSOLE_URL']"
   ]
  },
  {
   "cell_type": "code",
   "execution_count": 12,
   "id": "0b7c904c",
   "metadata": {
    "height": 47
   },
   "outputs": [
    {
     "data": {
      "text/html": [
       "<a href=\"https://signin.aws.amazon.com/federation?Action=login&SigninToken=V57rl5U9OLlgrzBqavHp2hIWA5sJuZ3PxTItlqE6DUN_tc3flIlK-BXxtEOucBEaTvXno-eN1nRG2mLnGiYSJESgUcprUPj1axXbXMo0VM8EJKVHeqmryEJMB7MYYahXEsWNflRkPlgpzVUoHOQsm739O6cB8yKoTpxjaHVTpaW7cHpr6P_7WePQPaJJUo1By7bS85Z4MmGUYwkQNbAOha0rl6MRbrhcuBqzROpi7es_wI0qU0wFUExjaGqGO9iZn7w9vpiORltigKZkU37JoJwJiG3Cq-RGOP9eMtVrHFn_Z5EacOEoT6smqnyrOxFVJ2f6mhmykPzlYIfvfeaGJRPQXBEq-Wslmq4XtazUffLjxuwGRuE3XYAC7AXrQmq_cIuCdoqCQX2lG0IBpqNz0PeAUsE0ujG27izmfdaLjTDNYEswFh0mzIKE2wk3mprW6JLFVNEy9Ld59Clcac7d4_Yoto-uNzR5PrGni9z5Pg-v7zpBkAMQN5Xj_zFdQKJgjqPbIFtkiLkGN5sK0E4U_cWzPxD7Q2QzjheJ83hU6i1yE_DoSwHJ8aTgfJaqvJTT9J_Hk6Ke1gK26Gaszma5ve-XdklRVlzI9OAAvVfckidrkgRZJVkjLk70UP_6UForvqWX0xJRuriosdu3DVhofilL3qyLKGZX7Ec8thQqk2VWK3wEEmgabSrjEJh8GwIPr6q9pqoJAmfMJ6a3uC7jRePZe8rs7J9VaOBbWbtpxYUsp2AXRn5X0sXmS_FlSl2D4HOq_CXFHP-tCrAwU2yljraSvpRXiXD2pxx2uxSs_wH0XL-Mwm29DutH0oHdKYj8wRE6fM14FJ-FzFa9X_co89zG-wr39nFQmo7Kue5gEO09ycrNJgR56E-eaGC_rggDNbTWEFejNCdLbCh802QEw3d7S-qSetkJj8x6QlViqHcFTFlQHdIfuc9peK0a9UdV9p9ul_qrY6YdP0V573f1MlS7zWmysCKkUWMFYVVv1zcRufSr17LYGu2nA5-w0tAkoPPFerJ1L-H5a1NYgKDLZL9BNmFLrZgul7voRg_n0JK4yaK1Jw1q9foJ1-KQMrj4mAwZh5rdWTpXbKTvjjKcCKa8sIIQ38itsvdslvq-KR6jX4N5ETsX_9vvGN63FK9NfCAUrNf31twdX84jd7XgbM5ln1aeFKy9hedvObvtFU70sqP_lB3P9DdJISUwNUu7tVOmMqwR4E1MmhTEJTEXajw27LyRuKkBmJS_r1kE3PMXlF_awAy27NzaqM5uTefRkueJoyyQVAhbAQLNAZpSoNK5ctIFxikxnqTJQ9A8CitOfriaRVEGluBd2RRPsarN8GBm74JGnSB7tDd_BcmVwBjpQdOZM2E8S2-TmHGCulFjUx9aLuK6rMGQ1WhHVRQspI3TrtL1Qx0d5KuxSXEQg-P04m8APnDC6LPlsr7XVsKocjheJgE&Issuer=https%3A%2F%2Fapi.vocareum.com&Destination=https%3A%2F%2Fconsole.aws.amazon.com%2Fconsole%2Fhome%3Fregion%3Dus-west-2\" target=\"_blank\">GO TO AWS CONSOLE</a>"
      ],
      "text/plain": [
       "<IPython.core.display.HTML object>"
      ]
     },
     "execution_count": 12,
     "metadata": {},
     "output_type": "execute_result"
    }
   ],
   "source": [
    "HTML(f'<a href=\"{aws_url}\" target=\"_blank\">GO TO AWS CONSOLE</a>')\n"
   ]
  }
 ],
 "metadata": {
  "kernelspec": {
   "display_name": "Python 3 (ipykernel)",
   "language": "python",
   "name": "python3"
  },
  "language_info": {
   "codemirror_mode": {
    "name": "ipython",
    "version": 3
   },
   "file_extension": ".py",
   "mimetype": "text/x-python",
   "name": "python",
   "nbconvert_exporter": "python",
   "pygments_lexer": "ipython3",
   "version": "3.11.9"
  }
 },
 "nbformat": 4,
 "nbformat_minor": 5
}
